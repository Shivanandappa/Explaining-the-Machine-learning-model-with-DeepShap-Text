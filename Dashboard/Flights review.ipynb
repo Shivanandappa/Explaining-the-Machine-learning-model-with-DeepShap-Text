{
 "cells": [
  {
   "cell_type": "code",
   "execution_count": 1,
   "id": "a25c8d9d",
   "metadata": {},
   "outputs": [
    {
     "name": "stderr",
     "output_type": "stream",
     "text": [
      "C:\\Users\\Petro\\anaconda3\\lib\\site-packages\\numpy\\_distributor_init.py:30: UserWarning: loaded more than 1 DLL from .libs:\n",
      "C:\\Users\\Petro\\anaconda3\\lib\\site-packages\\numpy\\.libs\\libopenblas.4SP5SUA7CBGXUEOC35YP2ASOICYYEQZZ.gfortran-win_amd64.dll\n",
      "C:\\Users\\Petro\\anaconda3\\lib\\site-packages\\numpy\\.libs\\libopenblas.NOIJJG62EMASZI6NYURL6JBKM4EVBGM7.gfortran-win_amd64.dll\n",
      "C:\\Users\\Petro\\anaconda3\\lib\\site-packages\\numpy\\.libs\\libopenblas.WCDJNK7YVMPZQ2ME2ZZHJJRJ3JIKNDB7.gfortran-win_amd64.dll\n",
      "  warnings.warn(\"loaded more than 1 DLL from .libs:\\n%s\" %\n"
     ]
    }
   ],
   "source": [
    "import pandas as pd\n",
    "import numpy as np\n",
    "import matplotlib.pyplot as plt\n",
    "import seaborn as sns\n",
    "import os\n",
    "import plotly.express as px"
   ]
  },
  {
   "cell_type": "code",
   "execution_count": null,
   "id": "64cf5466",
   "metadata": {},
   "outputs": [],
   "source": []
  },
  {
   "cell_type": "code",
   "execution_count": 3,
   "id": "c9acf6b9",
   "metadata": {},
   "outputs": [
    {
     "data": {
      "text/plain": [
       "'C:\\\\Users\\\\Petro\\\\Desktop\\\\Visual Analytics\\\\Visual_Analytics'"
      ]
     },
     "execution_count": 3,
     "metadata": {},
     "output_type": "execute_result"
    }
   ],
   "source": [
    "os.getcwd()"
   ]
  },
  {
   "cell_type": "code",
   "execution_count": 4,
   "id": "5f327146",
   "metadata": {},
   "outputs": [],
   "source": [
    "data = pd.read_csv('review.csv')"
   ]
  },
  {
   "cell_type": "code",
   "execution_count": 5,
   "id": "0870f7d6",
   "metadata": {},
   "outputs": [
    {
     "data": {
      "text/html": [
       "<div>\n",
       "<style scoped>\n",
       "    .dataframe tbody tr th:only-of-type {\n",
       "        vertical-align: middle;\n",
       "    }\n",
       "\n",
       "    .dataframe tbody tr th {\n",
       "        vertical-align: top;\n",
       "    }\n",
       "\n",
       "    .dataframe thead th {\n",
       "        text-align: right;\n",
       "    }\n",
       "</style>\n",
       "<table border=\"1\" class=\"dataframe\">\n",
       "  <thead>\n",
       "    <tr style=\"text-align: right;\">\n",
       "      <th></th>\n",
       "      <th>tweet_id</th>\n",
       "      <th>airline_sentiment</th>\n",
       "      <th>airline_sentiment_confidence</th>\n",
       "      <th>negativereason</th>\n",
       "      <th>negativereason_confidence</th>\n",
       "      <th>airline</th>\n",
       "      <th>name</th>\n",
       "      <th>retweet_count</th>\n",
       "      <th>text</th>\n",
       "      <th>tweet_created</th>\n",
       "      <th>latitude</th>\n",
       "      <th>longitude</th>\n",
       "    </tr>\n",
       "  </thead>\n",
       "  <tbody>\n",
       "    <tr>\n",
       "      <th>0</th>\n",
       "      <td>5.703061e+17</td>\n",
       "      <td>neutral</td>\n",
       "      <td>1.0000</td>\n",
       "      <td>NaN</td>\n",
       "      <td>NaN</td>\n",
       "      <td>Virgin America</td>\n",
       "      <td>cairdin</td>\n",
       "      <td>0</td>\n",
       "      <td>@VirginAmerica What @dhepburn said.</td>\n",
       "      <td>2015-02-24 11:35:52 -0800</td>\n",
       "      <td>35.888455</td>\n",
       "      <td>-119.273781</td>\n",
       "    </tr>\n",
       "    <tr>\n",
       "      <th>1</th>\n",
       "      <td>5.703011e+17</td>\n",
       "      <td>positive</td>\n",
       "      <td>0.3486</td>\n",
       "      <td>NaN</td>\n",
       "      <td>0.0000</td>\n",
       "      <td>Virgin America</td>\n",
       "      <td>jnardino</td>\n",
       "      <td>0</td>\n",
       "      <td>@VirginAmerica plus you've added commercials t...</td>\n",
       "      <td>2015-02-24 11:15:59 -0800</td>\n",
       "      <td>37.770971</td>\n",
       "      <td>-119.941025</td>\n",
       "    </tr>\n",
       "    <tr>\n",
       "      <th>2</th>\n",
       "      <td>5.703011e+17</td>\n",
       "      <td>neutral</td>\n",
       "      <td>0.6837</td>\n",
       "      <td>NaN</td>\n",
       "      <td>NaN</td>\n",
       "      <td>Virgin America</td>\n",
       "      <td>yvonnalynn</td>\n",
       "      <td>0</td>\n",
       "      <td>@VirginAmerica I didn't today... Must mean I n...</td>\n",
       "      <td>2015-02-24 11:15:48 -0800</td>\n",
       "      <td>35.684863</td>\n",
       "      <td>-119.709299</td>\n",
       "    </tr>\n",
       "    <tr>\n",
       "      <th>3</th>\n",
       "      <td>5.703010e+17</td>\n",
       "      <td>negative</td>\n",
       "      <td>1.0000</td>\n",
       "      <td>Bad Flight</td>\n",
       "      <td>0.7033</td>\n",
       "      <td>Virgin America</td>\n",
       "      <td>jnardino</td>\n",
       "      <td>0</td>\n",
       "      <td>@VirginAmerica it's really aggressive to blast...</td>\n",
       "      <td>2015-02-24 11:15:36 -0800</td>\n",
       "      <td>37.061159</td>\n",
       "      <td>-119.279135</td>\n",
       "    </tr>\n",
       "    <tr>\n",
       "      <th>4</th>\n",
       "      <td>5.703008e+17</td>\n",
       "      <td>negative</td>\n",
       "      <td>1.0000</td>\n",
       "      <td>Can't Tell</td>\n",
       "      <td>1.0000</td>\n",
       "      <td>Virgin America</td>\n",
       "      <td>jnardino</td>\n",
       "      <td>0</td>\n",
       "      <td>@VirginAmerica and it's a really big bad thing...</td>\n",
       "      <td>2015-02-24 11:14:45 -0800</td>\n",
       "      <td>36.790587</td>\n",
       "      <td>-120.867752</td>\n",
       "    </tr>\n",
       "  </tbody>\n",
       "</table>\n",
       "</div>"
      ],
      "text/plain": [
       "       tweet_id airline_sentiment  airline_sentiment_confidence  \\\n",
       "0  5.703061e+17           neutral                        1.0000   \n",
       "1  5.703011e+17          positive                        0.3486   \n",
       "2  5.703011e+17           neutral                        0.6837   \n",
       "3  5.703010e+17          negative                        1.0000   \n",
       "4  5.703008e+17          negative                        1.0000   \n",
       "\n",
       "  negativereason  negativereason_confidence         airline        name  \\\n",
       "0            NaN                        NaN  Virgin America     cairdin   \n",
       "1            NaN                     0.0000  Virgin America    jnardino   \n",
       "2            NaN                        NaN  Virgin America  yvonnalynn   \n",
       "3     Bad Flight                     0.7033  Virgin America    jnardino   \n",
       "4     Can't Tell                     1.0000  Virgin America    jnardino   \n",
       "\n",
       "   retweet_count                                               text  \\\n",
       "0              0                @VirginAmerica What @dhepburn said.   \n",
       "1              0  @VirginAmerica plus you've added commercials t...   \n",
       "2              0  @VirginAmerica I didn't today... Must mean I n...   \n",
       "3              0  @VirginAmerica it's really aggressive to blast...   \n",
       "4              0  @VirginAmerica and it's a really big bad thing...   \n",
       "\n",
       "               tweet_created   latitude   longitude  \n",
       "0  2015-02-24 11:35:52 -0800  35.888455 -119.273781  \n",
       "1  2015-02-24 11:15:59 -0800  37.770971 -119.941025  \n",
       "2  2015-02-24 11:15:48 -0800  35.684863 -119.709299  \n",
       "3  2015-02-24 11:15:36 -0800  37.061159 -119.279135  \n",
       "4  2015-02-24 11:14:45 -0800  36.790587 -120.867752  "
      ]
     },
     "execution_count": 5,
     "metadata": {},
     "output_type": "execute_result"
    }
   ],
   "source": [
    "data.head()"
   ]
  },
  {
   "cell_type": "code",
   "execution_count": 5,
   "id": "23f36795",
   "metadata": {},
   "outputs": [
    {
     "data": {
      "text/plain": [
       "(14640, 12)"
      ]
     },
     "execution_count": 5,
     "metadata": {},
     "output_type": "execute_result"
    }
   ],
   "source": [
    "data.shape"
   ]
  },
  {
   "cell_type": "code",
   "execution_count": 6,
   "id": "673888d7",
   "metadata": {},
   "outputs": [
    {
     "data": {
      "text/plain": [
       "tweet_id                        False\n",
       "airline_sentiment               False\n",
       "airline_sentiment_confidence    False\n",
       "negativereason                   True\n",
       "negativereason_confidence        True\n",
       "airline                         False\n",
       "name                            False\n",
       "retweet_count                   False\n",
       "text                            False\n",
       "tweet_created                   False\n",
       "latitude                        False\n",
       "longitude                       False\n",
       "dtype: bool"
      ]
     },
     "execution_count": 6,
     "metadata": {},
     "output_type": "execute_result"
    }
   ],
   "source": [
    "data.isnull().any()"
   ]
  },
  {
   "cell_type": "code",
   "execution_count": 7,
   "id": "8119d757",
   "metadata": {},
   "outputs": [
    {
     "data": {
      "text/plain": [
       "United            3822\n",
       "US Airways        2913\n",
       "American          2759\n",
       "Southwest         2420\n",
       "Delta             2222\n",
       "Virgin America     504\n",
       "Name: airline, dtype: int64"
      ]
     },
     "execution_count": 7,
     "metadata": {},
     "output_type": "execute_result"
    }
   ],
   "source": [
    "data['airline'].value_counts()"
   ]
  },
  {
   "cell_type": "code",
   "execution_count": 8,
   "id": "30ec7bb3",
   "metadata": {},
   "outputs": [
    {
     "data": {
      "text/plain": [
       "Text(0.5, 1.0, 'Virgin America')"
      ]
     },
     "execution_count": 8,
     "metadata": {},
     "output_type": "execute_result"
    },
    {
     "data": {
      "image/png": "[encoded data removed]",
      "text/plain": [
       "<Figure size 1080x720 with 6 Axes>"
      ]
     },
     "metadata": {
      "needs_background": "light"
     },
     "output_type": "display_data"
    }
   ],
   "source": [
    "plt.figure(figsize=(15,10))\n",
    "plt.subplot(331)\n",
    "data[data['airline']=='Delta']['airline_sentiment'].value_counts().plot(kind='barh',color='black')\n",
    "plt.title('delta airline')\n",
    "plt.subplot(332)\n",
    "data[data['airline']=='American']['airline_sentiment'].value_counts().plot(kind='barh',color='green')\n",
    "plt.title('American airline')\n",
    "plt.subplot(333)\n",
    "data[data['airline']=='United']['airline_sentiment'].value_counts().plot(kind='barh',color='cadetblue')\n",
    "plt.title('united airline')\n",
    "plt.subplot(334)\n",
    "data[data['airline']=='US Airways']['airline_sentiment'].value_counts().plot(kind='barh',color='powderblue')\n",
    "plt.title('US Airways')\n",
    "plt.subplot(335)\n",
    "data[data['airline']=='Southwest']['airline_sentiment'].value_counts().plot(kind='barh',color='mediumaquamarine')\n",
    "plt.title('Southwest airline')\n",
    "plt.subplot(336)\n",
    "data[data['airline']=='Virgin America']['airline_sentiment'].value_counts().plot(kind='barh',color='steelblue')\n",
    "plt.title('Virgin America')"
   ]
  },
  {
   "cell_type": "code",
   "execution_count": 8,
   "id": "41c5604f",
   "metadata": {},
   "outputs": [
    {
     "name": "stdout",
     "output_type": "stream",
     "text": [
      "Collecting geopandas\n",
      "  Downloading geopandas-0.10.2-py2.py3-none-any.whl (1.0 MB)\n",
      "     ---------------------------------------- 1.0/1.0 MB 8.2 MB/s eta 0:00:00\n",
      "Requirement already satisfied: pandas>=0.25.0 in c:\\users\\petro\\appdata\\roaming\\python\\python38\\site-packages (from geopandas) (1.1.5)\n",
      "Collecting fiona>=1.8\n",
      "  Downloading Fiona-1.8.21.tar.gz (1.0 MB)\n",
      "     ---------------------------------------- 1.0/1.0 MB 16.6 MB/s eta 0:00:00\n",
      "  Preparing metadata (setup.py): started\n",
      "  Preparing metadata (setup.py): finished with status 'error'\n"
     ]
    },
    {
     "name": "stderr",
     "output_type": "stream",
     "text": [
      "  error: subprocess-exited-with-error\n",
      "  \n",
      "  python setup.py egg_info did not run successfully.\n",
      "  exit code: 1\n",
      "  \n",
      "  [1 lines of output]\n",
      "  A GDAL API version must be specified. Provide a path to gdal-config using a GDAL_CONFIG environment variable or use a GDAL_VERSION environment variable.\n",
      "  [end of output]\n",
      "  \n",
      "  note: This error originates from a subprocess, and is likely not a problem with pip.\n",
      "error: metadata-generation-failed\n",
      "\n",
      "Encountered error while generating package metadata.\n",
      "\n",
      "See above for output.\n",
      "\n",
      "note: This is an issue with the package mentioned above, not pip.\n",
      "hint: See above for details.\n",
      "WARNING: You are using pip version 22.0.4; however, version 22.1.2 is available.\n",
      "You should consider upgrading via the 'C:\\Users\\Petro\\anaconda3\\python.exe -m pip install --upgrade pip' command.\n"
     ]
    }
   ],
   "source": [
    "# !pip install geopandas"
   ]
  },
  {
   "cell_type": "code",
   "execution_count": 10,
   "id": "0122e6ff",
   "metadata": {},
   "outputs": [],
   "source": [
    "import geopandas as gpd\n",
    "from shapely.geometry import Point,Polygon"
   ]
  },
  {
   "cell_type": "code",
   "execution_count": 11,
   "id": "a69a265e",
   "metadata": {},
   "outputs": [],
   "source": [
    "# to convert data into points\n",
    "geo=[Point(xy) for xy in  zip(data[data['airline']=='Delta']['longitude'][:200],data[data['airline']=='Delta']['latitude'][:200])]\n",
    "geo1=[Point(xy) for xy in  zip(data[data['airline']=='Southwest']['longitude'][:200],data[data['airline']=='Southwest']['latitude'][:200])]\n",
    "geo2=[Point(xy) for xy in  zip(data[data['airline']=='American']['longitude'][:200],data[data['airline']=='American']['latitude'][:200])]\n",
    "geo3=[Point(xy) for xy in  zip(data[data['airline']=='United']['longitude'][:200],data[data['airline']=='United']['latitude'][:200])]\n",
    "geo4=[Point(xy) for xy in  zip(data[data['airline']=='US Airways']['longitude'][:200],data[data['airline']=='US Airways']['latitude'][:200])]\n",
    "geo5=[Point(xy) for xy in  zip(data[data['airline']=='Virgin America']['longitude'][:200],data[data['airline']=='Virgin America']['latitude'][:200])]"
   ]
  },
  {
   "cell_type": "code",
   "execution_count": 12,
   "id": "0e8d83e2",
   "metadata": {},
   "outputs": [],
   "source": [
    "# gpd is similiar to pd\n",
    "g=gpd.GeoDataFrame(geometry=geo)\n",
    "g1=gpd.GeoDataFrame(geometry=geo1)\n",
    "g2=gpd.GeoDataFrame(geometry=geo2)\n",
    "g3=gpd.GeoDataFrame(geometry=geo3)\n",
    "g4=gpd.GeoDataFrame(geometry=geo4)\n",
    "g5=gpd.GeoDataFrame(geometry=geo5)\n",
    "US = gpd.read_file('States_shapefile-shp/States_shapefile.shp')"
   ]
  },
  {
   "cell_type": "code",
   "execution_count": 13,
   "id": "5e081f4b",
   "metadata": {},
   "outputs": [
    {
     "data": {
      "text/plain": [
       "geopandas.geodataframe.GeoDataFrame"
      ]
     },
     "execution_count": 13,
     "metadata": {},
     "output_type": "execute_result"
    }
   ],
   "source": [
    "type(US)"
   ]
  },
  {
   "cell_type": "code",
   "execution_count": 14,
   "id": "0fb8be32",
   "metadata": {},
   "outputs": [
    {
     "data": {
      "text/plain": [
       "pandas.core.frame.DataFrame"
      ]
     },
     "execution_count": 14,
     "metadata": {},
     "output_type": "execute_result"
    }
   ],
   "source": [
    "type(data)"
   ]
  },
  {
   "cell_type": "code",
   "execution_count": 15,
   "id": "f45217b8",
   "metadata": {},
   "outputs": [
    {
     "data": {
      "text/html": [
       "<div>\n",
       "<style scoped>\n",
       "    .dataframe tbody tr th:only-of-type {\n",
       "        vertical-align: middle;\n",
       "    }\n",
       "\n",
       "    .dataframe tbody tr th {\n",
       "        vertical-align: top;\n",
       "    }\n",
       "\n",
       "    .dataframe thead th {\n",
       "        text-align: right;\n",
       "    }\n",
       "</style>\n",
       "<table border=\"1\" class=\"dataframe\">\n",
       "  <thead>\n",
       "    <tr style=\"text-align: right;\">\n",
       "      <th></th>\n",
       "      <th>FID</th>\n",
       "      <th>Program</th>\n",
       "      <th>State_Code</th>\n",
       "      <th>State_Name</th>\n",
       "      <th>Flowing_St</th>\n",
       "      <th>FID_1</th>\n",
       "      <th>geometry</th>\n",
       "    </tr>\n",
       "  </thead>\n",
       "  <tbody>\n",
       "    <tr>\n",
       "      <th>0</th>\n",
       "      <td>1</td>\n",
       "      <td>PERMIT TRACKING</td>\n",
       "      <td>AL</td>\n",
       "      <td>ALABAMA</td>\n",
       "      <td>F</td>\n",
       "      <td>919</td>\n",
       "      <td>POLYGON ((-85.07007 31.98070, -85.11515 31.907...</td>\n",
       "    </tr>\n",
       "    <tr>\n",
       "      <th>1</th>\n",
       "      <td>2</td>\n",
       "      <td>None</td>\n",
       "      <td>AK</td>\n",
       "      <td>ALASKA</td>\n",
       "      <td>N</td>\n",
       "      <td>920</td>\n",
       "      <td>MULTIPOLYGON (((-161.33379 58.73325, -161.3824...</td>\n",
       "    </tr>\n",
       "    <tr>\n",
       "      <th>2</th>\n",
       "      <td>3</td>\n",
       "      <td>AZURITE</td>\n",
       "      <td>AZ</td>\n",
       "      <td>ARIZONA</td>\n",
       "      <td>F</td>\n",
       "      <td>921</td>\n",
       "      <td>POLYGON ((-114.52063 33.02771, -114.55909 33.0...</td>\n",
       "    </tr>\n",
       "    <tr>\n",
       "      <th>3</th>\n",
       "      <td>4</td>\n",
       "      <td>PDS</td>\n",
       "      <td>AR</td>\n",
       "      <td>ARKANSAS</td>\n",
       "      <td>F</td>\n",
       "      <td>922</td>\n",
       "      <td>POLYGON ((-94.46169 34.19677, -94.45262 34.508...</td>\n",
       "    </tr>\n",
       "    <tr>\n",
       "      <th>4</th>\n",
       "      <td>5</td>\n",
       "      <td>None</td>\n",
       "      <td>CA</td>\n",
       "      <td>CALIFORNIA</td>\n",
       "      <td>N</td>\n",
       "      <td>923</td>\n",
       "      <td>MULTIPOLYGON (((-121.66522 38.16929, -121.7823...</td>\n",
       "    </tr>\n",
       "  </tbody>\n",
       "</table>\n",
       "</div>"
      ],
      "text/plain": [
       "   FID          Program State_Code  State_Name Flowing_St  FID_1  \\\n",
       "0    1  PERMIT TRACKING         AL     ALABAMA          F    919   \n",
       "1    2             None         AK      ALASKA          N    920   \n",
       "2    3          AZURITE         AZ     ARIZONA          F    921   \n",
       "3    4              PDS         AR    ARKANSAS          F    922   \n",
       "4    5             None         CA  CALIFORNIA          N    923   \n",
       "\n",
       "                                            geometry  \n",
       "0  POLYGON ((-85.07007 31.98070, -85.11515 31.907...  \n",
       "1  MULTIPOLYGON (((-161.33379 58.73325, -161.3824...  \n",
       "2  POLYGON ((-114.52063 33.02771, -114.55909 33.0...  \n",
       "3  POLYGON ((-94.46169 34.19677, -94.45262 34.508...  \n",
       "4  MULTIPOLYGON (((-121.66522 38.16929, -121.7823...  "
      ]
     },
     "execution_count": 15,
     "metadata": {},
     "output_type": "execute_result"
    }
   ],
   "source": [
    "US.head()"
   ]
  },
  {
   "cell_type": "code",
   "execution_count": 16,
   "id": "d804c1e5",
   "metadata": {},
   "outputs": [
    {
     "data": {
      "text/plain": [
       "<matplotlib.legend.Legend at 0x14af04c10>"
      ]
     },
     "execution_count": 16,
     "metadata": {},
     "output_type": "execute_result"
    },
    {
     "data": {
      "image/png": "[encoded data removed]",
      "text/plain": [
       "<Figure size 1080x720 with 1 Axes>"
      ]
     },
     "metadata": {
      "needs_background": "light"
     },
     "output_type": "display_data"
    }
   ],
   "source": [
    "fig, ax = plt.subplots(figsize=(15,10))\n",
    "#US.boundary.plot(ax=ax,color='slategrey')\n",
    "US.plot(ax=ax,color='slategrey')\n",
    "g.plot(ax=ax,color='lightblue',label='delta')\n",
    "g1.plot(ax=ax,color='plum',label='southwest')\n",
    "g2.plot(ax=ax,color='mediumslateblue',label='American')\n",
    "g3.plot(ax=ax,color='darkgoldenrod',label='United')\n",
    "g4.plot(ax=ax,color='lightcoral',label='US Airways')\n",
    "g5.plot(ax=ax,color='forestgreen',label='Virgin America')\n",
    "plt.legend()"
   ]
  },
  {
   "cell_type": "code",
   "execution_count": 17,
   "id": "0ed9c048",
   "metadata": {},
   "outputs": [],
   "source": [
    "import pickle\n",
    "\n",
    "file = open('Flights_review.pkl','wb')\n",
    "\n",
    "pickle.dump(data,file)"
   ]
  },
  {
   "cell_type": "code",
   "execution_count": null,
   "id": "f10dbe03",
   "metadata": {},
   "outputs": [],
   "source": []
  }
 ],
 "metadata": {
  "kernelspec": {
   "display_name": "Python 3 (ipykernel)",
   "language": "python",
   "name": "python3"
  },
  "language_info": {
   "codemirror_mode": {
    "name": "ipython",
    "version": 3
   },
   "file_extension": ".py",
   "mimetype": "text/x-python",
   "name": "python",
   "nbconvert_exporter": "python",
   "pygments_lexer": "ipython3",
   "version": "3.8.12"
  }
 },
 "nbformat": 4,
 "nbformat_minor": 5
}
